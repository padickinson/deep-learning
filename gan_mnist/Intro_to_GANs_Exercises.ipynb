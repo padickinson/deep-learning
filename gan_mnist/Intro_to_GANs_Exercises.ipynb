{
 "cells": [
  {
   "cell_type": "markdown",
   "metadata": {},
   "source": [
    "# Generative Adversarial Network\n",
    "\n",
    "In this notebook, we'll be building a generative adversarial network (GAN) trained on the MNIST dataset. From this, we'll be able to generate new handwritten digits!\n",
    "\n",
    "GANs were [first reported on](https://arxiv.org/abs/1406.2661) in 2014 from Ian Goodfellow and others in Yoshua Bengio's lab. Since then, GANs have exploded in popularity. Here are a few examples to check out:\n",
    "\n",
    "* [Pix2Pix](https://affinelayer.com/pixsrv/) \n",
    "* [CycleGAN](https://github.com/junyanz/CycleGAN)\n",
    "* [A whole list](https://github.com/wiseodd/generative-models)\n",
    "\n",
    "The idea behind GANs is that you have two networks, a generator $G$ and a discriminator $D$, competing against each other. The generator makes fake data to pass to the discriminator. The discriminator also sees real data and predicts if the data it's received is real or fake. The generator is trained to fool the discriminator, it wants to output data that looks _as close as possible_ to real data. And the discriminator is trained to figure out which data is real and which is fake. What ends up happening is that the generator learns to make data that is indistiguishable from real data to the discriminator.\n",
    "\n",
    "![GAN diagram](assets/gan_diagram.png)\n",
    "\n",
    "The general structure of a GAN is shown in the diagram above, using MNIST images as data. The latent sample is a random vector the generator uses to contruct it's fake images. As the generator learns through training, it figures out how to map these random vectors to recognizable images that can fool the discriminator.\n",
    "\n",
    "The output of the discriminator is a sigmoid function, where 0 indicates a fake image and 1 indicates an real image. If you're interested only in generating new images, you can throw out the discriminator after training. Now, let's see how we build this thing in TensorFlow."
   ]
  },
  {
   "cell_type": "code",
   "execution_count": 27,
   "metadata": {},
   "outputs": [],
   "source": [
    "%matplotlib inline\n",
    "\n",
    "import pickle as pkl\n",
    "import numpy as np\n",
    "import tensorflow as tf\n",
    "import matplotlib.pyplot as plt"
   ]
  },
  {
   "cell_type": "code",
   "execution_count": 28,
   "metadata": {},
   "outputs": [
    {
     "name": "stdout",
     "output_type": "stream",
     "text": [
      "Extracting MNIST_data/train-images-idx3-ubyte.gz\n",
      "Extracting MNIST_data/train-labels-idx1-ubyte.gz\n",
      "Extracting MNIST_data/t10k-images-idx3-ubyte.gz\n",
      "Extracting MNIST_data/t10k-labels-idx1-ubyte.gz\n"
     ]
    }
   ],
   "source": [
    "from tensorflow.examples.tutorials.mnist import input_data\n",
    "mnist = input_data.read_data_sets('MNIST_data')"
   ]
  },
  {
   "cell_type": "markdown",
   "metadata": {},
   "source": [
    "## Model Inputs\n",
    "\n",
    "First we need to create the inputs for our graph. We need two inputs, one for the discriminator and one for the generator. Here we'll call the discriminator input `inputs_real` and the generator input `inputs_z`. We'll assign them the appropriate sizes for each of the networks.\n",
    "\n",
    ">**Exercise:** Finish the `model_inputs` function below. Create the placeholders for `inputs_real` and `inputs_z` using the input sizes `real_dim` and `z_dim` respectively."
   ]
  },
  {
   "cell_type": "code",
   "execution_count": 29,
   "metadata": {},
   "outputs": [],
   "source": [
    "def model_inputs(real_dim, z_dim):\n",
    "    inputs_real = tf.placeholder(tf.float32,shape=(None,real_dim), name='inputs_real')\n",
    "    inputs_z = tf.placeholder(tf.float32,shape=(None,z_dim), name='inputs_z')\n",
    "    \n",
    "    return inputs_real, inputs_z"
   ]
  },
  {
   "cell_type": "markdown",
   "metadata": {},
   "source": [
    "## Generator network\n",
    "\n",
    "![GAN Network](assets/gan_network.png)\n",
    "\n",
    "Here we'll build the generator network. To make this network a universal function approximator, we'll need at least one hidden layer. We should use a leaky ReLU to allow gradients to flow backwards through the layer unimpeded. A leaky ReLU is like a normal ReLU, except that there is a small non-zero output for negative input values.\n",
    "\n",
    "#### Variable Scope\n",
    "Here we need to use `tf.variable_scope` for two reasons. Firstly, we're going to make sure all the variable names start with `generator`. Similarly, we'll prepend `discriminator` to the discriminator variables. This will help out later when we're training the separate networks.\n",
    "\n",
    "We could just use `tf.name_scope` to set the names, but we also want to reuse these networks with different inputs. For the generator, we're going to train it, but also _sample from it_ as we're training and after training. The discriminator will need to share variables between the fake and real input images. So, we can use the `reuse` keyword for `tf.variable_scope` to tell TensorFlow to reuse the variables instead of creating new ones if we build the graph again.\n",
    "\n",
    "To use `tf.variable_scope`, you use a `with` statement:\n",
    "```python\n",
    "with tf.variable_scope('scope_name', reuse=False):\n",
    "    # code here\n",
    "```\n",
    "\n",
    "Here's more from [the TensorFlow documentation](https://www.tensorflow.org/programmers_guide/variable_scope#the_problem) to get another look at using `tf.variable_scope`.\n",
    "\n",
    "#### Leaky ReLU\n",
    "TensorFlow doesn't provide an operation for leaky ReLUs, so we'll need to make one . For this you can just take the outputs from a linear fully connected layer and pass them to `tf.maximum`. Typically, a parameter `alpha` sets the magnitude of the output for negative values. So, the output for negative input (`x`) values is `alpha*x`, and the output for positive `x` is `x`:\n",
    "$$\n",
    "f(x) = max(\\alpha * x, x)\n",
    "$$\n",
    "\n",
    "#### Tanh Output\n",
    "The generator has been found to perform the best with $tanh$ for the generator output. This means that we'll have to rescale the MNIST images to be between -1 and 1, instead of 0 and 1.\n",
    "\n",
    ">**Exercise:** Implement the generator network in the function below. You'll need to return the tanh output. Make sure to wrap your code in a variable scope, with 'generator' as the scope name, and pass the `reuse` keyword argument from the function to `tf.variable_scope`."
   ]
  },
  {
   "cell_type": "code",
   "execution_count": 30,
   "metadata": {},
   "outputs": [],
   "source": [
    "def generator(z, out_dim, n_units=128, reuse=False,  alpha=0.01):\n",
    "    ''' Build the generator network.\n",
    "    \n",
    "        Arguments\n",
    "        ---------\n",
    "        z : Input tensor for the generator\n",
    "        out_dim : Shape of the generator output\n",
    "        n_units : Number of units in hidden layer\n",
    "        reuse : Reuse the variables with tf.variable_scope\n",
    "        alpha : leak parameter for leaky ReLU\n",
    "        \n",
    "        Returnikm,fgs\n",
    "        -------\n",
    "        out: \n",
    "    '''\n",
    "    with tf.variable_scope('generator',reuse=reuse): # finish this\n",
    "        # Hidden layer\n",
    "        h1 = tf.contrib.layers.fully_connected(\n",
    "                                                inputs=z,\n",
    "                                                num_outputs=n_units,\n",
    "                                                activation_fn=None                                                \n",
    "                                                )\n",
    "        # Leaky ReLU\n",
    "        h1 = tf.maximum(alpha*h1, h1)\n",
    "        h1 = tf.identity(h1, 'h1')\n",
    "        \n",
    "        # Logits and tanh output\n",
    "        logits = tf.contrib.layers.fully_connected(\n",
    "                                                    inputs=h1,\n",
    "                                                    num_outputs=out_dim,\n",
    "                                                    activation_fn=None\n",
    "                                                  )\n",
    "        logits = tf.identity(logits,'logits')\n",
    "        out = tf.tanh(logits)\n",
    "        out = tf.identity(out,'output')\n",
    "        \n",
    "        return out"
   ]
  },
  {
   "cell_type": "markdown",
   "metadata": {},
   "source": [
    "## Discriminator\n",
    "\n",
    "The discriminator network is almost exactly the same as the generator network, except that we're using a sigmoid output layer.\n",
    "\n",
    ">**Exercise:** Implement the discriminator network in the function below. Same as above, you'll need to return both the logits and the sigmoid output. Make sure to wrap your code in a variable scope, with 'discriminator' as the scope name, and pass the `reuse` keyword argument from the function arguments to `tf.variable_scope`."
   ]
  },
  {
   "cell_type": "code",
   "execution_count": 31,
   "metadata": {},
   "outputs": [],
   "source": [
    "def discriminator(x, n_units=128, reuse=False, alpha=0.01):\n",
    "    ''' Build the discriminator network.\n",
    "    \n",
    "        Arguments\n",
    "        ---------\n",
    "        x : Input tensor for the discriminator\n",
    "        n_units: Number of units in hidden layer\n",
    "        reuse : Reuse the variables with tf.variable_scope\n",
    "        alpha : leak parameter for leaky ReLU\n",
    "        \n",
    "        Returns\n",
    "        -------\n",
    "        out, logits: \n",
    "    '''\n",
    "    with tf.variable_scope('discriminator',reuse=reuse): # finish this\n",
    "        # Hidden layer\n",
    "        h1 = tf.contrib.layers.fully_connected(\n",
    "                                                inputs=x,\n",
    "                                                num_outputs=n_units,\n",
    "                                                activation_fn=None                                                \n",
    "                                                )\n",
    "        # Leaky ReLU\n",
    "        h1 = tf.maximum(alpha*h1, h1)\n",
    "        h1 = tf.identity(h1, 'h1')\n",
    "        \n",
    "        # Logits and sigmoid output\n",
    "        logits = tf.contrib.layers.fully_connected(\n",
    "                                                    inputs=h1,\n",
    "                                                    num_outputs=1,\n",
    "                                                    activation_fn=None\n",
    "                                                  )\n",
    "        logits = tf.identity(logits,'logits')\n",
    "        out = tf.sigmoid(logits)\n",
    "        out = tf.identity(out,'output')\n",
    "        \n",
    "        return out, logits"
   ]
  },
  {
   "cell_type": "markdown",
   "metadata": {},
   "source": [
    "## Hyperparameters"
   ]
  },
  {
   "cell_type": "code",
   "execution_count": 32,
   "metadata": {},
   "outputs": [],
   "source": [
    "# Size of input image to discriminator\n",
    "input_size = 784 # 28x28 MNIST images flattened\n",
    "# Size of latent vector to generator\n",
    "z_size = 100\n",
    "# Sizes of hidden layers in generator and discriminator\n",
    "g_hidden_size = 128\n",
    "d_hidden_size = 128\n",
    "# Leak factor for leaky ReLU\n",
    "alpha = 0.01\n",
    "# Label smoothing \n",
    "smooth = 0.1"
   ]
  },
  {
   "cell_type": "markdown",
   "metadata": {},
   "source": [
    "## Build network\n",
    "\n",
    "Now we're building the network from the functions defined above.\n",
    "\n",
    "First is to get our inputs, `input_real, input_z` from `model_inputs` using the sizes of the input and z.\n",
    "\n",
    "Then, we'll create the generator, `generator(input_z, input_size)`. This builds the generator with the appropriate input and output sizes.\n",
    "\n",
    "Then the discriminators. We'll build two of them, one for real data and one for fake data. Since we want the weights to be the same for both real and fake data, we need to reuse the variables. For the fake data, we're getting it from the generator as `g_model`. So the real data discriminator is `discriminator(input_real)` while the fake discriminator is `discriminator(g_model, reuse=True)`.\n",
    "\n",
    ">**Exercise:** Build the network from the functions you defined earlier."
   ]
  },
  {
   "cell_type": "code",
   "execution_count": 33,
   "metadata": {},
   "outputs": [],
   "source": [
    "tf.reset_default_graph()\n",
    "# Create our input placeholders\n",
    "input_real, input_z = model_inputs(input_size, z_size) \n",
    "\n",
    "# Generator network here\n",
    "g_model = generator(input_z,input_size,n_units=g_hidden_size,alpha=alpha)\n",
    "# g_model is the generator output\n",
    "\n",
    "# Disriminator network here\n",
    "d_model_real, d_logits_real = discriminator(input_real,n_units=d_hidden_size, alpha=alpha)\n",
    "d_model_fake, d_logits_fake = discriminator(g_model,reuse=True,  n_units=d_hidden_size, alpha=alpha)"
   ]
  },
  {
   "cell_type": "markdown",
   "metadata": {},
   "source": [
    "## Discriminator and Generator Losses\n",
    "\n",
    "Now we need to calculate the losses, which is a little tricky. For the discriminator, the total loss is the sum of the losses for real and fake images, `d_loss = d_loss_real + d_loss_fake`. The losses will be sigmoid cross-entropies, which we can get with `tf.nn.sigmoid_cross_entropy_with_logits`. We'll also wrap that in `tf.reduce_mean` to get the mean for all the images in the batch. So the losses will look something like \n",
    "\n",
    "```python\n",
    "tf.reduce_mean(tf.nn.sigmoid_cross_entropy_with_logits(logits=logits, labels=labels))\n",
    "```\n",
    "\n",
    "For the real image logits, we'll use `d_logits_real` which we got from the discriminator in the cell above. For the labels, we want them to be all ones, since these are all real images. To help the discriminator generalize better, the labels are reduced a bit from 1.0 to 0.9, for example,  using the parameter `smooth`. This is known as label smoothing, typically used with classifiers to improve performance. In TensorFlow, it looks something like `labels = tf.ones_like(tensor) * (1 - smooth)`\n",
    "\n",
    "The discriminator loss for the fake data is similar. The logits are `d_logits_fake`, which we got from passing the generator output to the discriminator. These fake logits are used with labels of all zeros. Remember that we want the discriminator to output 1 for real images and 0 for fake images, so we need to set up the losses to reflect that.\n",
    "\n",
    "Finally, the generator losses are using `d_logits_fake`, the fake image logits. But, now the labels are all ones. The generator is trying to fool the discriminator, so it wants to discriminator to output ones for fake images.\n",
    "\n",
    ">**Exercise:** Calculate the losses for the discriminator and the generator. There are two discriminator losses, one for real images and one for fake images. For the real image loss, use the real logits and (smoothed) labels of ones. For the fake image loss, use the fake logits with labels of all zeros. The total discriminator loss is the sum of those two losses. Finally, the generator loss again uses the fake logits from the discriminator, but this time the labels are all ones because the generator wants to fool the discriminator."
   ]
  },
  {
   "cell_type": "code",
   "execution_count": 34,
   "metadata": {},
   "outputs": [],
   "source": [
    "# Calculate losses\n",
    "d_loss_real = tf.reduce_mean(tf.nn.sigmoid_cross_entropy_with_logits(\n",
    "                    logits=d_logits_real,\n",
    "                    labels=tf.ones_like(d_logits_real) * (1-smooth)))\n",
    "\n",
    "d_loss_fake = tf.reduce_mean(tf.nn.sigmoid_cross_entropy_with_logits(\n",
    "                    logits=d_logits_fake,\n",
    "                    labels=tf.zeros_like(d_logits_fake)))\n",
    "\n",
    "d_loss = d_loss_real + d_loss_fake\n",
    "\n",
    "\n",
    "g_loss = tf.reduce_mean(tf.nn.sigmoid_cross_entropy_with_logits(\n",
    "                    logits=d_logits_fake,\n",
    "                    labels=tf.ones_like(d_logits_fake)))"
   ]
  },
  {
   "cell_type": "markdown",
   "metadata": {},
   "source": [
    "## Optimizers\n",
    "\n",
    "We want to update the generator and discriminator variables separately. So we need to get the variables for each part and build optimizers for the two parts. To get all the trainable variables, we use `tf.trainable_variables()`. This creates a list of all the variables we've defined in our graph.\n",
    "\n",
    "For the generator optimizer, we only want to generator variables. Our past selves were nice and used a variable scope to start all of our generator variable names with `generator`. So, we just need to iterate through the list from `tf.trainable_variables()` and keep variables that start with `generator`. Each variable object has an attribute `name` which holds the name of the variable as a string (`var.name == 'weights_0'` for instance). \n",
    "\n",
    "We can do something similar with the discriminator. All the variables in the discriminator start with `discriminator`.\n",
    "\n",
    "Then, in the optimizer we pass the variable lists to the `var_list` keyword argument of the `minimize` method. This tells the optimizer to only update the listed variables. Something like `tf.train.AdamOptimizer().minimize(loss, var_list=var_list)` will only train the variables in `var_list`.\n",
    "\n",
    ">**Exercise: ** Below, implement the optimizers for the generator and discriminator. First you'll need to get a list of trainable variables, then split that list into two lists, one for the generator variables and another for the discriminator variables. Finally, using `AdamOptimizer`, create an optimizer for each network that update the network variables separately."
   ]
  },
  {
   "cell_type": "code",
   "execution_count": 37,
   "metadata": {
    "scrolled": true
   },
   "outputs": [],
   "source": [
    "# Optimizers\n",
    "learning_rate = 0.002\n",
    "\n",
    "# Get the trainable_variables, split into G and D parts\n",
    "t_vars = tf.trainable_variables()\n",
    "g_vars = [v for v in t_vars if v.name.startswith('generator')]\n",
    "d_vars = [v for v in t_vars if v.name.startswith('discriminator')]\n",
    "\n",
    "d_train_opt = tf.train.AdamOptimizer().minimize(d_loss,var_list=d_vars)\n",
    "g_train_opt = tf.train.AdamOptimizer().minimize(g_loss,var_list=g_vars)"
   ]
  },
  {
   "cell_type": "markdown",
   "metadata": {},
   "source": [
    "## Training"
   ]
  },
  {
   "cell_type": "code",
   "execution_count": null,
   "metadata": {
    "scrolled": true
   },
   "outputs": [
    {
     "name": "stdout",
     "output_type": "stream",
     "text": [
      "Epoch 1/200... Discriminator Loss: 0.3486... Generator Loss: 4.0174\n",
      "Epoch 2/200... Discriminator Loss: 0.6111... Generator Loss: 4.7494\n",
      "Epoch 3/200... Discriminator Loss: 0.4937... Generator Loss: 2.4914\n",
      "Epoch 4/200... Discriminator Loss: 0.4174... Generator Loss: 3.5538\n",
      "Epoch 5/200... Discriminator Loss: 0.5703... Generator Loss: 3.8823\n",
      "Epoch 6/200... Discriminator Loss: 0.5817... Generator Loss: 5.2636\n",
      "Epoch 7/200... Discriminator Loss: 0.7600... Generator Loss: 2.7187\n",
      "Epoch 8/200... Discriminator Loss: 0.5489... Generator Loss: 4.0390\n",
      "Epoch 9/200... Discriminator Loss: 0.5711... Generator Loss: 2.7939\n",
      "Epoch 10/200... Discriminator Loss: 0.6317... Generator Loss: 2.6488\n",
      "Epoch 11/200... Discriminator Loss: 0.5809... Generator Loss: 3.0055\n",
      "Epoch 12/200... Discriminator Loss: 0.7536... Generator Loss: 2.8894\n",
      "Epoch 13/200... Discriminator Loss: 0.7815... Generator Loss: 1.9271\n",
      "Epoch 14/200... Discriminator Loss: 0.8734... Generator Loss: 2.6121\n",
      "Epoch 15/200... Discriminator Loss: 0.7778... Generator Loss: 3.6279\n",
      "Epoch 16/200... Discriminator Loss: 0.8477... Generator Loss: 2.8421\n",
      "Epoch 17/200... Discriminator Loss: 0.7531... Generator Loss: 2.8327\n",
      "Epoch 18/200... Discriminator Loss: 0.8124... Generator Loss: 2.2964\n",
      "Epoch 19/200... Discriminator Loss: 0.7519... Generator Loss: 2.4383\n",
      "Epoch 20/200... Discriminator Loss: 0.9470... Generator Loss: 1.8340\n",
      "Epoch 21/200... Discriminator Loss: 1.3072... Generator Loss: 1.5615\n",
      "Epoch 22/200... Discriminator Loss: 0.8549... Generator Loss: 2.3760\n",
      "Epoch 23/200... Discriminator Loss: 0.9055... Generator Loss: 2.0657\n",
      "Epoch 24/200... Discriminator Loss: 0.8727... Generator Loss: 2.4443\n",
      "Epoch 25/200... Discriminator Loss: 0.8274... Generator Loss: 2.3463\n",
      "Epoch 26/200... Discriminator Loss: 1.0554... Generator Loss: 2.1825\n",
      "Epoch 27/200... Discriminator Loss: 0.8375... Generator Loss: 2.1872\n",
      "Epoch 28/200... Discriminator Loss: 0.9892... Generator Loss: 1.6186\n",
      "Epoch 29/200... Discriminator Loss: 1.1940... Generator Loss: 1.6164\n",
      "Epoch 30/200... Discriminator Loss: 0.8840... Generator Loss: 2.0348\n",
      "Epoch 31/200... Discriminator Loss: 0.8969... Generator Loss: 2.2258\n",
      "Epoch 32/200... Discriminator Loss: 0.8124... Generator Loss: 2.2898\n",
      "Epoch 33/200... Discriminator Loss: 1.1449... Generator Loss: 1.6050\n",
      "Epoch 34/200... Discriminator Loss: 1.1781... Generator Loss: 1.7158\n",
      "Epoch 35/200... Discriminator Loss: 1.0348... Generator Loss: 1.4434\n",
      "Epoch 36/200... Discriminator Loss: 0.9378... Generator Loss: 1.7434\n",
      "Epoch 37/200... Discriminator Loss: 0.8013... Generator Loss: 2.3116\n",
      "Epoch 38/200... Discriminator Loss: 0.8698... Generator Loss: 2.2110\n",
      "Epoch 39/200... Discriminator Loss: 0.8840... Generator Loss: 1.8448\n",
      "Epoch 40/200... Discriminator Loss: 1.2369... Generator Loss: 1.2804\n",
      "Epoch 41/200... Discriminator Loss: 0.7941... Generator Loss: 1.9559\n",
      "Epoch 42/200... Discriminator Loss: 1.1551... Generator Loss: 1.8594\n",
      "Epoch 43/200... Discriminator Loss: 0.9517... Generator Loss: 1.7062\n",
      "Epoch 44/200... Discriminator Loss: 0.9431... Generator Loss: 1.5657\n",
      "Epoch 45/200... Discriminator Loss: 1.0814... Generator Loss: 2.2619\n",
      "Epoch 46/200... Discriminator Loss: 0.9991... Generator Loss: 2.0322\n",
      "Epoch 47/200... Discriminator Loss: 0.8829... Generator Loss: 2.2488\n",
      "Epoch 48/200... Discriminator Loss: 1.3460... Generator Loss: 1.5241\n",
      "Epoch 49/200... Discriminator Loss: 1.0361... Generator Loss: 1.3810\n",
      "Epoch 50/200... Discriminator Loss: 1.0195... Generator Loss: 2.0142\n",
      "Epoch 51/200... Discriminator Loss: 0.9606... Generator Loss: 1.8481\n",
      "Epoch 52/200... Discriminator Loss: 0.9396... Generator Loss: 1.9009\n",
      "Epoch 53/200... Discriminator Loss: 1.0506... Generator Loss: 1.3790\n",
      "Epoch 54/200... Discriminator Loss: 1.1273... Generator Loss: 1.3915\n",
      "Epoch 55/200... Discriminator Loss: 1.2371... Generator Loss: 1.5263\n",
      "Epoch 56/200... Discriminator Loss: 1.2843... Generator Loss: 1.6455\n",
      "Epoch 57/200... Discriminator Loss: 1.1310... Generator Loss: 1.4792\n",
      "Epoch 58/200... Discriminator Loss: 1.0109... Generator Loss: 2.1444\n",
      "Epoch 59/200... Discriminator Loss: 1.0267... Generator Loss: 1.8378\n",
      "Epoch 60/200... Discriminator Loss: 0.9566... Generator Loss: 1.5737\n",
      "Epoch 61/200... Discriminator Loss: 1.0025... Generator Loss: 1.5728\n",
      "Epoch 62/200... Discriminator Loss: 1.0276... Generator Loss: 1.9864\n",
      "Epoch 63/200... Discriminator Loss: 0.7069... Generator Loss: 2.0990\n",
      "Epoch 64/200... Discriminator Loss: 1.0693... Generator Loss: 1.3164\n",
      "Epoch 65/200... Discriminator Loss: 1.0508... Generator Loss: 2.1760\n",
      "Epoch 66/200... Discriminator Loss: 1.1499... Generator Loss: 1.4447\n",
      "Epoch 67/200... Discriminator Loss: 1.1381... Generator Loss: 1.8439\n",
      "Epoch 68/200... Discriminator Loss: 1.0565... Generator Loss: 1.3731\n",
      "Epoch 69/200... Discriminator Loss: 1.0372... Generator Loss: 1.4592\n",
      "Epoch 70/200... Discriminator Loss: 1.0235... Generator Loss: 1.5987\n",
      "Epoch 71/200... Discriminator Loss: 1.1650... Generator Loss: 1.2727\n",
      "Epoch 72/200... Discriminator Loss: 1.1377... Generator Loss: 1.4087\n",
      "Epoch 73/200... Discriminator Loss: 0.9284... Generator Loss: 1.7280\n",
      "Epoch 74/200... Discriminator Loss: 1.2587... Generator Loss: 1.2519\n",
      "Epoch 75/200... Discriminator Loss: 0.9661... Generator Loss: 1.3026\n",
      "Epoch 76/200... Discriminator Loss: 1.0549... Generator Loss: 1.7828\n",
      "Epoch 77/200... Discriminator Loss: 1.2244... Generator Loss: 1.1030\n",
      "Epoch 78/200... Discriminator Loss: 1.2745... Generator Loss: 1.1694\n",
      "Epoch 79/200... Discriminator Loss: 0.9129... Generator Loss: 1.6584\n",
      "Epoch 80/200... Discriminator Loss: 1.2758... Generator Loss: 1.4035\n",
      "Epoch 81/200... Discriminator Loss: 1.2371... Generator Loss: 1.3638\n",
      "Epoch 82/200... Discriminator Loss: 1.0946... Generator Loss: 1.6284\n",
      "Epoch 83/200... Discriminator Loss: 1.1902... Generator Loss: 1.5275\n",
      "Epoch 84/200... Discriminator Loss: 1.1385... Generator Loss: 1.3585\n",
      "Epoch 85/200... Discriminator Loss: 1.1055... Generator Loss: 1.3785\n",
      "Epoch 86/200... Discriminator Loss: 1.0764... Generator Loss: 1.4706\n",
      "Epoch 87/200... Discriminator Loss: 1.0978... Generator Loss: 1.2351\n",
      "Epoch 88/200... Discriminator Loss: 1.1825... Generator Loss: 1.3128\n",
      "Epoch 89/200... Discriminator Loss: 1.1765... Generator Loss: 1.3505\n",
      "Epoch 90/200... Discriminator Loss: 0.9772... Generator Loss: 1.7856\n",
      "Epoch 91/200... Discriminator Loss: 1.2782... Generator Loss: 1.2867\n",
      "Epoch 92/200... Discriminator Loss: 1.1971... Generator Loss: 1.2000\n",
      "Epoch 93/200... Discriminator Loss: 0.9439... Generator Loss: 1.3941\n",
      "Epoch 94/200... Discriminator Loss: 1.0513... Generator Loss: 1.4513\n",
      "Epoch 95/200... Discriminator Loss: 1.1896... Generator Loss: 1.1861\n",
      "Epoch 96/200... Discriminator Loss: 0.9327... Generator Loss: 1.9413\n",
      "Epoch 97/200... Discriminator Loss: 1.0321... Generator Loss: 2.1632\n",
      "Epoch 98/200... Discriminator Loss: 1.1395... Generator Loss: 1.4145\n",
      "Epoch 99/200... Discriminator Loss: 1.0451... Generator Loss: 1.4201\n",
      "Epoch 100/200... Discriminator Loss: 1.2298... Generator Loss: 1.4985\n",
      "Epoch 101/200... Discriminator Loss: 1.0084... Generator Loss: 1.5884\n",
      "Epoch 102/200... Discriminator Loss: 1.0862... Generator Loss: 1.4792\n",
      "Epoch 103/200... Discriminator Loss: 1.0707... Generator Loss: 1.2679\n",
      "Epoch 104/200... Discriminator Loss: 1.1863... Generator Loss: 1.3270\n",
      "Epoch 105/200... Discriminator Loss: 1.1190... Generator Loss: 1.8895\n",
      "Epoch 106/200... Discriminator Loss: 1.1379... Generator Loss: 1.5522\n",
      "Epoch 107/200... Discriminator Loss: 1.1316... Generator Loss: 1.3718\n",
      "Epoch 108/200... Discriminator Loss: 0.9975... Generator Loss: 1.5946\n",
      "Epoch 109/200... Discriminator Loss: 1.1038... Generator Loss: 1.4664\n",
      "Epoch 110/200... Discriminator Loss: 1.0273... Generator Loss: 1.2918\n",
      "Epoch 111/200... Discriminator Loss: 1.0331... Generator Loss: 1.5397\n",
      "Epoch 112/200... Discriminator Loss: 1.0204... Generator Loss: 1.7199\n",
      "Epoch 113/200... Discriminator Loss: 1.0619... Generator Loss: 1.5839\n",
      "Epoch 114/200... Discriminator Loss: 1.1315... Generator Loss: 1.4681\n",
      "Epoch 115/200... Discriminator Loss: 0.8726... Generator Loss: 1.8135\n",
      "Epoch 116/200... Discriminator Loss: 1.2590... Generator Loss: 1.2795\n",
      "Epoch 117/200... Discriminator Loss: 1.0719... Generator Loss: 1.4925\n",
      "Epoch 118/200... Discriminator Loss: 1.1504... Generator Loss: 1.4708\n",
      "Epoch 119/200... Discriminator Loss: 1.1753... Generator Loss: 1.6950\n"
     ]
    },
    {
     "name": "stdout",
     "output_type": "stream",
     "text": [
      "Epoch 120/200... Discriminator Loss: 1.0711... Generator Loss: 1.4607\n",
      "Epoch 121/200... Discriminator Loss: 1.1223... Generator Loss: 1.5114\n",
      "Epoch 122/200... Discriminator Loss: 1.1073... Generator Loss: 1.3746\n",
      "Epoch 123/200... Discriminator Loss: 0.9348... Generator Loss: 1.6655\n",
      "Epoch 124/200... Discriminator Loss: 1.0560... Generator Loss: 1.3377\n",
      "Epoch 125/200... Discriminator Loss: 1.0871... Generator Loss: 1.5168\n",
      "Epoch 126/200... Discriminator Loss: 1.0446... Generator Loss: 1.5718\n",
      "Epoch 127/200... Discriminator Loss: 1.0624... Generator Loss: 1.5498\n",
      "Epoch 128/200... Discriminator Loss: 1.0410... Generator Loss: 1.3780\n",
      "Epoch 129/200... Discriminator Loss: 1.0095... Generator Loss: 1.8219\n",
      "Epoch 130/200... Discriminator Loss: 1.0331... Generator Loss: 1.4668\n",
      "Epoch 131/200... Discriminator Loss: 1.0100... Generator Loss: 1.4866\n",
      "Epoch 132/200... Discriminator Loss: 0.9821... Generator Loss: 2.0086\n",
      "Epoch 133/200... Discriminator Loss: 1.0495... Generator Loss: 1.7602\n",
      "Epoch 134/200... Discriminator Loss: 1.0270... Generator Loss: 1.5806\n",
      "Epoch 135/200... Discriminator Loss: 0.9453... Generator Loss: 1.4695\n",
      "Epoch 136/200... Discriminator Loss: 0.9724... Generator Loss: 1.5372\n",
      "Epoch 137/200... Discriminator Loss: 1.0055... Generator Loss: 1.4930\n",
      "Epoch 138/200... Discriminator Loss: 0.9797... Generator Loss: 1.4810\n",
      "Epoch 139/200... Discriminator Loss: 1.0991... Generator Loss: 1.5352\n",
      "Epoch 140/200... Discriminator Loss: 0.9680... Generator Loss: 1.8231\n",
      "Epoch 141/200... Discriminator Loss: 1.1327... Generator Loss: 1.4722\n",
      "Epoch 142/200... Discriminator Loss: 1.0936... Generator Loss: 1.3523\n",
      "Epoch 143/200... Discriminator Loss: 0.9252... Generator Loss: 2.2079\n",
      "Epoch 144/200... Discriminator Loss: 1.0310... Generator Loss: 1.8498\n",
      "Epoch 145/200... Discriminator Loss: 1.0072... Generator Loss: 1.3902\n",
      "Epoch 146/200... Discriminator Loss: 1.0005... Generator Loss: 1.6073\n",
      "Epoch 147/200... Discriminator Loss: 0.9587... Generator Loss: 1.6056\n",
      "Epoch 148/200... Discriminator Loss: 0.9422... Generator Loss: 1.7328\n",
      "Epoch 149/200... Discriminator Loss: 1.0391... Generator Loss: 1.7946\n",
      "Epoch 150/200... Discriminator Loss: 1.1312... Generator Loss: 1.3973\n",
      "Epoch 151/200... Discriminator Loss: 1.0486... Generator Loss: 1.5138\n",
      "Epoch 152/200... Discriminator Loss: 1.1476... Generator Loss: 1.5292\n",
      "Epoch 153/200... Discriminator Loss: 1.0014... Generator Loss: 1.6096\n",
      "Epoch 154/200... Discriminator Loss: 1.0886... Generator Loss: 1.3700\n",
      "Epoch 155/200... Discriminator Loss: 0.9754... Generator Loss: 1.6649\n",
      "Epoch 156/200... Discriminator Loss: 1.0296... Generator Loss: 1.8543\n",
      "Epoch 157/200... Discriminator Loss: 1.0217... Generator Loss: 1.2981\n",
      "Epoch 158/200... Discriminator Loss: 0.9667... Generator Loss: 1.6392\n",
      "Epoch 159/200... Discriminator Loss: 1.1071... Generator Loss: 1.5190\n",
      "Epoch 160/200... Discriminator Loss: 1.0520... Generator Loss: 1.3451\n",
      "Epoch 161/200... Discriminator Loss: 0.9854... Generator Loss: 1.5762\n",
      "Epoch 162/200... Discriminator Loss: 1.0975... Generator Loss: 1.7176\n",
      "Epoch 163/200... Discriminator Loss: 1.1217... Generator Loss: 1.5670\n",
      "Epoch 164/200... Discriminator Loss: 1.1901... Generator Loss: 1.4185\n",
      "Epoch 165/200... Discriminator Loss: 1.0869... Generator Loss: 1.5561\n",
      "Epoch 166/200... Discriminator Loss: 1.0591... Generator Loss: 1.4051\n",
      "Epoch 167/200... Discriminator Loss: 1.0410... Generator Loss: 1.6835\n",
      "Epoch 168/200... Discriminator Loss: 0.9946... Generator Loss: 1.5737\n",
      "Epoch 169/200... Discriminator Loss: 0.9443... Generator Loss: 1.6101\n",
      "Epoch 170/200... Discriminator Loss: 1.0230... Generator Loss: 1.3950\n",
      "Epoch 171/200... Discriminator Loss: 1.0310... Generator Loss: 1.4572\n",
      "Epoch 172/200... Discriminator Loss: 1.1196... Generator Loss: 1.4886\n",
      "Epoch 173/200... Discriminator Loss: 1.0786... Generator Loss: 1.5358\n",
      "Epoch 174/200... Discriminator Loss: 1.0655... Generator Loss: 1.2482\n",
      "Epoch 175/200... Discriminator Loss: 1.0586... Generator Loss: 1.4958\n",
      "Epoch 176/200... Discriminator Loss: 1.1724... Generator Loss: 1.7337\n",
      "Epoch 177/200... Discriminator Loss: 1.0594... Generator Loss: 1.7473\n",
      "Epoch 178/200... Discriminator Loss: 1.1758... Generator Loss: 1.5394\n",
      "Epoch 179/200... Discriminator Loss: 1.0959... Generator Loss: 1.3222\n",
      "Epoch 180/200... Discriminator Loss: 0.9695... Generator Loss: 1.5679\n",
      "Epoch 181/200... Discriminator Loss: 1.0393... Generator Loss: 1.7805\n",
      "Epoch 182/200... Discriminator Loss: 0.9689... Generator Loss: 1.7923\n",
      "Epoch 183/200... Discriminator Loss: 1.0137... Generator Loss: 1.5342\n",
      "Epoch 184/200... Discriminator Loss: 1.1787... Generator Loss: 1.4549\n",
      "Epoch 185/200... Discriminator Loss: 0.9969... Generator Loss: 1.4714\n",
      "Epoch 186/200... Discriminator Loss: 1.0557... Generator Loss: 1.3533\n",
      "Epoch 187/200... Discriminator Loss: 1.0828... Generator Loss: 1.3151\n",
      "Epoch 188/200... Discriminator Loss: 1.1282... Generator Loss: 1.8262\n",
      "Epoch 189/200... Discriminator Loss: 1.0287... Generator Loss: 1.3900\n",
      "Epoch 190/200... Discriminator Loss: 1.1243... Generator Loss: 1.5826\n",
      "Epoch 191/200... Discriminator Loss: 0.9507... Generator Loss: 1.7583\n",
      "Epoch 192/200... Discriminator Loss: 1.1151... Generator Loss: 1.6660\n",
      "Epoch 193/200... Discriminator Loss: 1.1463... Generator Loss: 1.5773\n",
      "Epoch 194/200... Discriminator Loss: 1.0687... Generator Loss: 1.5371\n",
      "Epoch 195/200... Discriminator Loss: 1.1103... Generator Loss: 1.4259\n",
      "Epoch 196/200... Discriminator Loss: 1.0296... Generator Loss: 1.6892\n"
     ]
    }
   ],
   "source": [
    "batch_size = 100\n",
    "epochs = 200\n",
    "samples = []\n",
    "losses = []\n",
    "saver = tf.train.Saver(var_list = g_vars)\n",
    "with tf.Session() as sess:\n",
    "    sess.run(tf.global_variables_initializer())\n",
    "    for e in range(epochs):\n",
    "        for ii in range(mnist.train.num_examples//batch_size):\n",
    "            batch = mnist.train.next_batch(batch_size)\n",
    "            \n",
    "            # Get images, reshape and rescale to pass to D\n",
    "            batch_images = batch[0].reshape((batch_size, 784))\n",
    "            batch_images = batch_images*2 - 1\n",
    "            \n",
    "            # Sample random noise for G\n",
    "            batch_z = np.random.uniform(-1, 1, size=(batch_size, z_size))\n",
    "            \n",
    "            # Run optimizers\n",
    "            _ = sess.run(d_train_opt, feed_dict={input_real: batch_images, input_z: batch_z})\n",
    "            _ = sess.run(g_train_opt, feed_dict={input_z: batch_z})\n",
    "        \n",
    "        # At the end of each epoch, get the losses and print them out\n",
    "        train_loss_d = sess.run(d_loss, {input_z: batch_z, input_real: batch_images})\n",
    "        train_loss_g = g_loss.eval({input_z: batch_z})\n",
    "            \n",
    "        print(\"Epoch {}/{}...\".format(e+1, epochs),\n",
    "              \"Discriminator Loss: {:.4f}...\".format(train_loss_d),\n",
    "              \"Generator Loss: {:.4f}\".format(train_loss_g))    \n",
    "        # Save losses to view after training\n",
    "        losses.append((train_loss_d, train_loss_g))\n",
    "        \n",
    "        # Sample from generator as we're training for viewing afterwards\n",
    "        sample_z = np.random.uniform(-1, 1, size=(16, z_size))\n",
    "        gen_samples = sess.run(\n",
    "                       generator(input_z, input_size, n_units=g_hidden_size, reuse=True, alpha=alpha),\n",
    "                       feed_dict={input_z: sample_z})\n",
    "        samples.append(gen_samples)\n",
    "        saver.save(sess, './checkpoints/generator.ckpt')\n",
    "\n",
    "# Save training generator samples\n",
    "with open('train_samples.pkl', 'wb') as f:\n",
    "    pkl.dump(samples, f)"
   ]
  },
  {
   "cell_type": "markdown",
   "metadata": {},
   "source": [
    "## Training loss\n",
    "\n",
    "Here we'll check out the training losses for the generator and discriminator."
   ]
  },
  {
   "cell_type": "code",
   "execution_count": null,
   "metadata": {},
   "outputs": [],
   "source": [
    "%matplotlib inline\n",
    "\n",
    "import matplotlib.pyplot as plt"
   ]
  },
  {
   "cell_type": "code",
   "execution_count": null,
   "metadata": {},
   "outputs": [],
   "source": [
    "fig, ax = plt.subplots()\n",
    "losses = np.array(losses)\n",
    "plt.plot(losses.T[0], label='Discriminator')\n",
    "plt.plot(losses.T[1], label='Generator')\n",
    "plt.title(\"Training Losses\")\n",
    "plt.legend()"
   ]
  },
  {
   "cell_type": "markdown",
   "metadata": {},
   "source": [
    "## Generator samples from training\n",
    "\n",
    "Here we can view samples of images from the generator. First we'll look at images taken while training."
   ]
  },
  {
   "cell_type": "code",
   "execution_count": null,
   "metadata": {},
   "outputs": [],
   "source": [
    "def view_samples(epoch, samples):\n",
    "    fig, axes = plt.subplots(figsize=(7,7), nrows=4, ncols=4, sharey=True, sharex=True)\n",
    "    for ax, img in zip(axes.flatten(), samples[epoch]):\n",
    "        ax.xaxis.set_visible(False)\n",
    "        ax.yaxis.set_visible(False)\n",
    "        im = ax.imshow(img.reshape((28,28)), cmap='Greys_r')\n",
    "    \n",
    "    return fig, axes"
   ]
  },
  {
   "cell_type": "code",
   "execution_count": null,
   "metadata": {},
   "outputs": [],
   "source": [
    "# Load samples from generator taken while training\n",
    "with open('train_samples.pkl', 'rb') as f:\n",
    "    samples = pkl.load(f)"
   ]
  },
  {
   "cell_type": "markdown",
   "metadata": {},
   "source": [
    "These are samples from the final training epoch. You can see the generator is able to reproduce numbers like 5, 7, 3, 0, 9. Since this is just a sample, it isn't representative of the full range of images this generator can make."
   ]
  },
  {
   "cell_type": "code",
   "execution_count": null,
   "metadata": {},
   "outputs": [],
   "source": [
    "_ = view_samples(-1, samples)"
   ]
  },
  {
   "cell_type": "markdown",
   "metadata": {},
   "source": [
    "Below I'm showing the generated images as the network was training, every 10 epochs. With bonus optical illusion!"
   ]
  },
  {
   "cell_type": "code",
   "execution_count": null,
   "metadata": {},
   "outputs": [],
   "source": [
    "rows, cols = 10, 6\n",
    "fig, axes = plt.subplots(figsize=(7,12), nrows=rows, ncols=cols, sharex=True, sharey=True)\n",
    "\n",
    "for sample, ax_row in zip(samples[::int(len(samples)/rows)], axes):\n",
    "    for img, ax in zip(sample[::int(len(sample)/cols)], ax_row):\n",
    "        ax.imshow(img.reshape((28,28)), cmap='Greys_r')\n",
    "        ax.xaxis.set_visible(False)\n",
    "        ax.yaxis.set_visible(False)"
   ]
  },
  {
   "cell_type": "markdown",
   "metadata": {},
   "source": [
    "It starts out as all noise. Then it learns to make only the center white and the rest black. You can start to see some number like structures appear out of the noise. Looks like 1, 9, and 8 show up first. Then, it learns 5 and 3."
   ]
  },
  {
   "cell_type": "markdown",
   "metadata": {},
   "source": [
    "## Sampling from the generator\n",
    "\n",
    "We can also get completely new images from the generator by using the checkpoint we saved after training. We just need to pass in a new latent vector $z$ and we'll get new samples!"
   ]
  },
  {
   "cell_type": "code",
   "execution_count": null,
   "metadata": {},
   "outputs": [],
   "source": [
    "saver = tf.train.Saver(var_list=g_vars)\n",
    "with tf.Session() as sess:\n",
    "    saver.restore(sess, tf.train.latest_checkpoint('checkpoints'))\n",
    "    sample_z = np.random.uniform(-1, 1, size=(16, z_size))\n",
    "    gen_samples = sess.run(\n",
    "                   generator(input_z, input_size, n_units=g_hidden_size, reuse=True, alpha=alpha),\n",
    "                   feed_dict={input_z: sample_z})\n",
    "view_samples(0, [gen_samples])"
   ]
  },
  {
   "cell_type": "code",
   "execution_count": null,
   "metadata": {},
   "outputs": [],
   "source": []
  }
 ],
 "metadata": {
  "kernelspec": {
   "display_name": "Python [default]",
   "language": "python",
   "name": "python3"
  },
  "language_info": {
   "codemirror_mode": {
    "name": "ipython",
    "version": 3
   },
   "file_extension": ".py",
   "mimetype": "text/x-python",
   "name": "python",
   "nbconvert_exporter": "python",
   "pygments_lexer": "ipython3",
   "version": "3.6.6"
  }
 },
 "nbformat": 4,
 "nbformat_minor": 2
}
